{
 "cells": [
  {
   "cell_type": "markdown",
   "metadata": {},
   "source": [
    "# Assingment NO:- 3"
   ]
  },
  {
   "cell_type": "markdown",
   "metadata": {},
   "source": [
    "1.1 Write a Python Program to implement your own myreduce() function which works exactly like Python's built-in function reduce() "
   ]
  },
  {
   "cell_type": "code",
   "execution_count": 146,
   "metadata": {},
   "outputs": [
    {
     "data": {
      "text/plain": [
       "237"
      ]
     },
     "execution_count": 146,
     "metadata": {},
     "output_type": "execute_result"
    }
   ],
   "source": [
    "#Customized reduce funtion \n",
    "n_list=12,23,34,45,56,67\n",
    "def add_num(x,y):\n",
    "    return x+y  \n",
    "\n",
    "\n",
    "def myreduce(function,mylist):\n",
    "    numbers = mylist[0]\n",
    "    for i in mylist[1:]:\n",
    "        numbers = function(numbers,i)\n",
    "    return numbers\n",
    "myreduce(add_num,n_list)"
   ]
  },
  {
   "cell_type": "code",
   "execution_count": 148,
   "metadata": {},
   "outputs": [
    {
     "name": "stdout",
     "output_type": "stream",
     "text": [
      "237\n"
     ]
    }
   ],
   "source": [
    "#cross checking with inbuilt reduce function \n",
    "from functools import reduce\n",
    "mys=reduce(lambda x,y:x+y,n_list)\n",
    "print(mys)"
   ]
  },
  {
   "cell_type": "markdown",
   "metadata": {},
   "source": [
    "1.2 Write a Python program to implement your own myfilter() function which works exactly like Python's built-in function filter() "
   ]
  },
  {
   "cell_type": "code",
   "execution_count": 150,
   "metadata": {},
   "outputs": [],
   "source": [
    "#custom filter funtion\n",
    "def myfilter(func, my_list):\n",
    "    result=[ ]\n",
    "    for num in mylist2:\n",
    "        if fnctn(num):\n",
    "            result.append(num)\n",
    "    return result\n",
    "\n",
    "#Defining the funtion \n",
    "def ispositive(x):\n",
    "    if (x >= 0):\n",
    "        print('The given number {} is positive'.format(x))\n",
    "    else: \n",
    "        print(\"The given number {} is negative\".format(x))\n",
    "numlist=[1,2,-3,4,-5]"
   ]
  },
  {
   "cell_type": "code",
   "execution_count": 153,
   "metadata": {},
   "outputs": [
    {
     "name": "stdout",
     "output_type": "stream",
     "text": [
      "The given number 1 is positive\n",
      "The given number 2 is positive\n",
      "The given number -3 is negative\n",
      "The given number 4 is positive\n",
      "The given number -5 is negative\n"
     ]
    },
    {
     "data": {
      "text/plain": [
       "[]"
      ]
     },
     "execution_count": 153,
     "metadata": {},
     "output_type": "execute_result"
    }
   ],
   "source": [
    "my_filter(ispositive,numlist)"
   ]
  },
  {
   "cell_type": "code",
   "execution_count": 155,
   "metadata": {},
   "outputs": [
    {
     "name": "stdout",
     "output_type": "stream",
     "text": [
      "The given number 1 is positive\n",
      "The given number 2 is positive\n",
      "The given number -3 is negative\n",
      "The given number 4 is positive\n",
      "The given number -5 is negative\n"
     ]
    },
    {
     "data": {
      "text/plain": [
       "[]"
      ]
     },
     "execution_count": 155,
     "metadata": {},
     "output_type": "execute_result"
    }
   ],
   "source": [
    "#Cross check with in-build filter funtion\n",
    "list(filter(ispositive,numlist))"
   ]
  },
  {
   "cell_type": "markdown",
   "metadata": {},
   "source": [
    "2. Implement List comprehensions to produce the following lists.  \n",
    "Write List comprehensions to produce the following Lists  \n",
    "['A', 'C', 'A', 'D', 'G', 'I', ’L’, ‘ D’]  \n",
    "['x', 'xx', 'xxx', 'xxxx', 'y', 'yy', 'yyy', 'yyyy', 'z', 'zz', 'zzz', 'zzzz']  \n",
    "['x', 'y', 'z', 'xx', 'yy', 'zz', 'xx', 'yy', 'zz', 'xxxx', 'yyyy', 'zzzz']  \n",
    "[[2], [3], [4], [3], [4], [5], [4], [5], [6]]  \n",
    "[[2, 3, 4, 5], [3, 4, 5, 6], [4, 5, 6, 7], [5, 6, 7, 8]]  \n",
    "[(1, 1), (2, 1), (3, 1), (1, 2), (2, 2), (3, 2), (1, 3), (2, 3), (3, 3)] "
   ]
  },
  {
   "cell_type": "code",
   "execution_count": 145,
   "metadata": {},
   "outputs": [
    {
     "name": "stdout",
     "output_type": "stream",
     "text": [
      "['A', 'C', 'A', 'D', 'G', 'I', 'L', 'D']\n"
     ]
    }
   ],
   "source": [
    "mylist1=[i for i in 'ACADGILD']\n",
    "print(mylist1)"
   ]
  },
  {
   "cell_type": "code",
   "execution_count": 82,
   "metadata": {},
   "outputs": [
    {
     "name": "stdout",
     "output_type": "stream",
     "text": [
      "['x', 'xx', 'xxx', 'xxxx', 'y', 'yy', 'yyy', 'yyyy', 'z', 'zz', 'zzz', 'zzzz']\n"
     ]
    }
   ],
   "source": [
    "lst=\"xyz\"\n",
    "mylist2=[i*j for i in range(1,5) for j in lst]\n",
    "mylist2.sort()\n",
    "print(mylist2)"
   ]
  },
  {
   "cell_type": "code",
   "execution_count": 85,
   "metadata": {},
   "outputs": [
    {
     "name": "stdout",
     "output_type": "stream",
     "text": [
      "['x', 'y', 'z', 'xx', 'yy', 'zz', 'xxx', 'yyy', 'zzz', 'xxxx', 'yyyy', 'zzzz']\n"
     ]
    }
   ],
   "source": [
    "mylist2=[i*j for i in range(1,5) for j in lst]\n",
    "print(mylist2)"
   ]
  },
  {
   "cell_type": "code",
   "execution_count": 31,
   "metadata": {},
   "outputs": [
    {
     "name": "stdout",
     "output_type": "stream",
     "text": [
      "The result of [2,3,4] is :-[[2], [3], [4], [3], [4], [5], [4], [5], [6]]\n"
     ]
    }
   ],
   "source": [
    "num_list1=[2,3,4]\n",
    "newlist=[[i+j] for i in num_list1 for j in range(0,3)]\n",
    "print(\"The result of [2,3,4] is :-\" + str(newlist))"
   ]
  },
  {
   "cell_type": "code",
   "execution_count": 34,
   "metadata": {},
   "outputs": [
    {
     "name": "stdout",
     "output_type": "stream",
     "text": [
      "The output of [2,3,4,5] is:-[[2, 3, 4, 5], [3, 4, 5, 6], [4, 5, 6, 7], [5, 6, 7, 8]]\n"
     ]
    }
   ],
   "source": [
    "num_list2=[2,3,4,5]\n",
    "result=[[i+j for i in num_list2] for j in range(0,4)]\n",
    "print(\"The output of [2,3,4,5] is:-\"+  str(result))"
   ]
  },
  {
   "cell_type": "code",
   "execution_count": 82,
   "metadata": {},
   "outputs": [
    {
     "name": "stdout",
     "output_type": "stream",
     "text": [
      "The result is:- [(1, 1), (1, 2), (1, 3), (2, 1), (2, 2), (2, 3), (3, 1), (3, 2), (3, 3)]\n"
     ]
    }
   ],
   "source": [
    "samp_list=[1,2,3]\n",
    "test_list=[(i,j) for i in samp for j in samp ]\n",
    "print(\"The result is:-\", str(test_list))"
   ]
  }
 ],
 "metadata": {
  "kernelspec": {
   "display_name": "Python 3",
   "language": "python",
   "name": "python3"
  },
  "language_info": {
   "codemirror_mode": {
    "name": "ipython",
    "version": 3
   },
   "file_extension": ".py",
   "mimetype": "text/x-python",
   "name": "python",
   "nbconvert_exporter": "python",
   "pygments_lexer": "ipython3",
   "version": "3.7.4"
  }
 },
 "nbformat": 4,
 "nbformat_minor": 2
}
