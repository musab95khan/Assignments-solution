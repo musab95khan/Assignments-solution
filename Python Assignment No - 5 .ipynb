{
 "cells": [
  {
   "cell_type": "markdown",
   "metadata": {},
   "source": [
    "# Assignment No - 5"
   ]
  },
  {
   "cell_type": "markdown",
   "metadata": {},
   "source": [
    "1. Write a function to compute 5/0 and use try/except to catch the exceptions."
   ]
  },
  {
   "cell_type": "code",
   "execution_count": 3,
   "metadata": {},
   "outputs": [
    {
     "name": "stdout",
     "output_type": "stream",
     "text": [
      "Error:You are trying division by zero\n"
     ]
    }
   ],
   "source": [
    "try:\n",
    "    x=5/0\n",
    "    print(x)\n",
    "except:\n",
    "    print('Error:You are trying division by zero')    "
   ]
  },
  {
   "cell_type": "markdown",
   "metadata": {},
   "source": [
    "2. Implement a Python program to generate all sentences where subject is in\n",
    "[\"Americans\", \"Indians\"] and verb is in [\"Play\", \"watch\"] and the object is in\n",
    "[\"Baseball\",\"cricket\"].\n",
    "Hint: Subject,Verb and Object should be declared in the program as shown below.\n",
    "subjects=[\"Americans \",\"Indians\"]\n",
    "verbs=[\"play\",\"watch\"]\n",
    "objects=[\"Baseball\",\"Cricket\"]\n",
    "     \n",
    "Output should come as below:\n",
    "     Americans play Baseball.\n",
    "   Americans play Cricket.\n",
    "   Americans watch Baseball.\n",
    "   Americans watch Cricket.\n",
    "   Indians play Baseball.\n",
    "   Indians play Cricket.\n",
    "   Indians watch Baseball.\n",
    "   Indians watch Cricket."
   ]
  },
  {
   "cell_type": "code",
   "execution_count": 6,
   "metadata": {},
   "outputs": [
    {
     "name": "stdout",
     "output_type": "stream",
     "text": [
      "Americans Play Basketball\n",
      "Americans Play Cricket\n",
      "Americans Watch Basketball\n",
      "Americans Watch Cricket\n",
      "Indians Play Basketball\n",
      "Indians Play Cricket\n",
      "Indians Watch Basketball\n",
      "Indians Watch Cricket\n"
     ]
    }
   ],
   "source": [
    "Subjects=['Americans' , 'Indians']\n",
    "Verbs=['Play' , 'Watch']\n",
    "Objects=['Basketball' , 'Cricket']\n",
    "for i in Subjects:\n",
    "    for j in Verbs:\n",
    "        for k in Objects:\n",
    "            new =i+\" \"+ j +\" \"+ k\n",
    "            print(new)"
   ]
  },
  {
   "cell_type": "code",
   "execution_count": null,
   "metadata": {},
   "outputs": [],
   "source": []
  }
 ],
 "metadata": {
  "kernelspec": {
   "display_name": "Python 3",
   "language": "python",
   "name": "python3"
  },
  "language_info": {
   "codemirror_mode": {
    "name": "ipython",
    "version": 3
   },
   "file_extension": ".py",
   "mimetype": "text/x-python",
   "name": "python",
   "nbconvert_exporter": "python",
   "pygments_lexer": "ipython3",
   "version": "3.7.4"
  }
 },
 "nbformat": 4,
 "nbformat_minor": 2
}
