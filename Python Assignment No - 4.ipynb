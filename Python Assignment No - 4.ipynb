{
 "cells": [
  {
   "cell_type": "markdown",
   "metadata": {},
   "source": [
    "# Assignment No - 4\n"
   ]
  },
  {
   "cell_type": "markdown",
   "metadata": {},
   "source": [
    "1.1 Write a Python Program(with class concepts) to find the area of the triangle using the below formula.  \n",
    "area = (s*(s-a)*(s-b)*(s-c)) ** 0.5  \n",
    "Function to take the length of the sides of triangle from user should be defined in the parent class and function to calculate the area should be defined in subclass"
   ]
  },
  {
   "cell_type": "code",
   "execution_count": 2,
   "metadata": {},
   "outputs": [
    {
     "name": "stdout",
     "output_type": "stream",
     "text": [
      "Length of side a:5\n",
      "Length of side b:10\n",
      "Length of side c:12\n",
      "13.5\n",
      "24.544602257930357\n",
      "Area of triangle is: 24.544602257930357 square units\n",
      "None\n"
     ]
    }
   ],
   "source": [
    "class Triangle:\n",
    "    def __init__(self):\n",
    "        self.a=a\n",
    "        self.b=b\n",
    "        self.c=c\n",
    "class Area(Triangle):\n",
    "    def compute(self):\n",
    "        s=(self.a+self.b+self.c)/2\n",
    "        print(s)\n",
    "        area=(s*(s-self.a)*(s-self.b)*(s-self.c))**0.5\n",
    "        print(area)\n",
    "        return print(\"Area of triangle is:\",area,\"square units\")\n",
    "a=int(input(\"Length of side a:\"))\n",
    "b=int(input(\"Length of side b:\"))\n",
    "c=int(input(\"Length of side c:\"))\n",
    "ar=Area()\n",
    "print(ar.compute())"
   ]
  },
  {
   "cell_type": "markdown",
   "metadata": {},
   "source": [
    "1.2  Write a function filter_long_words() that takes a list of words and an integer n and returns the list of words that are longer than n.   "
   ]
  },
  {
   "cell_type": "code",
   "execution_count": 3,
   "metadata": {},
   "outputs": [
    {
     "name": "stdout",
     "output_type": "stream",
     "text": [
      "Please input the list of words: musab zaid mustafa\n",
      "List of words more than the length of:4\n",
      "The list of word greater than the integer is: ['musab', 'mustafa']\n"
     ]
    }
   ],
   "source": [
    "    def filter_long_word(l,nums):\n",
    "        listword=[]\n",
    "        for i in range(len(l)):\n",
    "            if len(l[i])>nums:\n",
    "                listword.append(l[i])\n",
    "        return listword\n",
    "    def func():\n",
    "        words=input(\"Please input the list of words: \").split()\n",
    "        number=int(input(\"List of words more than the length of:\"))\n",
    "\n",
    "        Words1=filter_long_word(words,number)\n",
    "        print(\"The list of word greater than the integer is:\",Words1)\n",
    "    func()"
   ]
  },
  {
   "cell_type": "markdown",
   "metadata": {},
   "source": [
    "2.1  Write a Python program using function concept that maps list of words into a list of integers representing the lengths of the corresponding words.  \n",
    "Hint: If a list [ ab,cde,erty] is passed on to the python function output should come as [2,3,4]  \n",
    "Here 2,3 and 4 are the lengths of the words in the list. "
   ]
  },
  {
   "cell_type": "code",
   "execution_count": 4,
   "metadata": {},
   "outputs": [
    {
     "data": {
      "text/plain": [
       "[5, 4, 7]"
      ]
     },
     "execution_count": 4,
     "metadata": {},
     "output_type": "execute_result"
    }
   ],
   "source": [
    "list1=['musab','zaid','mustafa']\n",
    "num_countlis=[]\n",
    "def count_num(numlist):\n",
    "    for i in list1:\n",
    "        num_countlis.append(len(i))\n",
    "    return num_countlis\n",
    "count_num(['musab','zaid','mustafa'])"
   ]
  },
  {
   "cell_type": "markdown",
   "metadata": {},
   "source": [
    "2.2 Write a Python function which takes a character (i.e. a string of length 1) and returns True if it is a vowel, False otherwise.   "
   ]
  },
  {
   "cell_type": "code",
   "execution_count": 5,
   "metadata": {},
   "outputs": [
    {
     "data": {
      "text/plain": [
       "True"
      ]
     },
     "execution_count": 5,
     "metadata": {},
     "output_type": "execute_result"
    }
   ],
   "source": [
    "def word_vowel(char):\n",
    "    if char==\"a\" or char==\"e\" or char==\"i\" or char==\"o\" or char==\"u\" or char=='A' or char=='E' or char=='I' or char=='O' or char=='U':\n",
    "        return True\n",
    "    else:\n",
    "        return False \n",
    "word_vowel('e')"
   ]
  },
  {
   "cell_type": "code",
   "execution_count": 6,
   "metadata": {},
   "outputs": [
    {
     "data": {
      "text/plain": [
       "False"
      ]
     },
     "execution_count": 6,
     "metadata": {},
     "output_type": "execute_result"
    }
   ],
   "source": [
    "#cross chek with non vowel\n",
    "word_vowel('c')"
   ]
  }
 ],
 "metadata": {
  "kernelspec": {
   "display_name": "Python 3",
   "language": "python",
   "name": "python3"
  },
  "language_info": {
   "codemirror_mode": {
    "name": "ipython",
    "version": 3
   },
   "file_extension": ".py",
   "mimetype": "text/x-python",
   "name": "python",
   "nbconvert_exporter": "python",
   "pygments_lexer": "ipython3",
   "version": "3.7.4"
  }
 },
 "nbformat": 4,
 "nbformat_minor": 2
}
